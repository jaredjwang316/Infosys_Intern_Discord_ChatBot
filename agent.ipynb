{
 "cells": [
  {
   "cell_type": "code",
   "execution_count": null,
   "id": "ef4a094f",
   "metadata": {},
   "outputs": [
    {
     "name": "stdout",
     "output_type": "stream",
     "text": [
      "✅ API is working: Hello! How can I help you today?\n"
     ]
    }
   ],
   "source": [
    "import os\n",
    "from typing import Annotated\n",
    "from typing_extensions import TypedDict\n",
    "from langgraph.graph import StateGraph, START, END\n",
    "from langgraph.graph.message import add_messages\n",
    "from langchain_google_genai import ChatGoogleGenerativeAI\n",
    "from langchain_core.messages import SystemMessage, HumanMessage, AIMessage\n",
    "from langchain_core.tools import tool\n",
    "from langchain.schema import Document\n",
    "from langgraph.prebuilt import ToolNode, tools_condition\n",
    "import datetime\n",
    "import concurrent.futures\n",
    "\n",
    "from functions.query import query_data\n",
    "from functions.summary import summarize_conversation, summarize_conversation_by_time\n",
    "from functions.search import search_conversation, search_conversation_quick\n",
    "from local_memory import LocalMemory \n",
    "\n",
    "os.environ[\"GOOGLE_API_KEY\"] = os.getenv(\"GOOGLE_API_KEY\")\n",
    "model_name = os.getenv(\"MODEL_NAME\")\n",
    "\n",
    "llm = ChatGoogleGenerativeAI(\n",
    "    model=model_name,\n",
    "    temperature=0.7,\n",
    "    max_tokens=None,\n",
    "    timeout=None,\n",
    "    max_retries=2\n",
    ")\n",
    "\n",
    "# Test the API directly\n",
    "try:\n",
    "    test_response = llm.invoke([HumanMessage(content=\"Hello\")])\n",
    "    print(\"✅ API is working:\", test_response.content)\n",
    "except Exception as e:\n",
    "    print(\"❌ API issue:\", e)"
   ]
  }
 ],
 "metadata": {
  "kernelspec": {
   "display_name": ".venv",
   "language": "python",
   "name": "python3"
  },
  "language_info": {
   "codemirror_mode": {
    "name": "ipython",
    "version": 3
   },
   "file_extension": ".py",
   "mimetype": "text/x-python",
   "name": "python",
   "nbconvert_exporter": "python",
   "pygments_lexer": "ipython3",
   "version": "3.12.3"
  }
 },
 "nbformat": 4,
 "nbformat_minor": 5
}
